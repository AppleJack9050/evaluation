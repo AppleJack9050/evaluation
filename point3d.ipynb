{
 "cells": [
  {
   "cell_type": "code",
   "execution_count": 1,
   "id": "51e174b9",
   "metadata": {},
   "outputs": [
    {
     "name": "stdout",
     "output_type": "stream",
     "text": [
      "Jupyter environment detected. Enabling Open3D WebVisualizer.\n",
      "[Open3D INFO] WebRTC GUI backend enabled.\n",
      "[Open3D INFO] WebRTCWindowSystem: HTTP handshake server disabled.\n"
     ]
    }
   ],
   "source": [
    "import numpy as np\n",
    "import open3d as o3d\n",
    "import laspy\n",
    "from typing import Union, Tuple"
   ]
  },
  {
   "cell_type": "code",
   "execution_count": 2,
   "id": "cc874486",
   "metadata": {},
   "outputs": [
    {
     "data": {
      "text/plain": [
       "520723"
      ]
     },
     "execution_count": 2,
     "metadata": {},
     "output_type": "execute_result"
    }
   ],
   "source": [
    "# 读取 PLY 文件\n",
    "col_pcd = o3d.io.read_point_cloud(\"../3d_model/colmap_glacier.ply\")\n",
    "# col_pcd = o3d.io.read_point_cloud(\"../3d_model/filtered_point_cloud.ply\")\n",
    "len(col_pcd.points)"
   ]
  },
  {
   "cell_type": "code",
   "execution_count": 2,
   "id": "6e615f9f",
   "metadata": {},
   "outputs": [
    {
     "data": {
      "text/plain": [
       "13178690"
      ]
     },
     "execution_count": 2,
     "metadata": {},
     "output_type": "execute_result"
    }
   ],
   "source": [
    "las_file = laspy.read(\"../3d_model/2016-11-28_AlphLake_SFM-Medium_USGSTransLOCAL.las\")\n",
    "\n",
    "# 提取 XYZ 坐标\n",
    "las_points = np.vstack((las_file.x, las_file.y, las_file.z)).T\n",
    "\n",
    "# 转换为 Open3D 点云对象\n",
    "las_pcd = o3d.geometry.PointCloud()\n",
    "las_pcd.points = o3d.utility.Vector3dVector(las_points)\n",
    "len(las_pcd.points)"
   ]
  },
  {
   "cell_type": "code",
   "execution_count": 3,
   "id": "01389ed9",
   "metadata": {},
   "outputs": [
    {
     "data": {
      "text/plain": [
       "True"
      ]
     },
     "execution_count": 3,
     "metadata": {},
     "output_type": "execute_result"
    }
   ],
   "source": [
    "o3d.io.write_point_cloud(\"../3d_model/gt_gl.ply\", las_pcd)"
   ]
  },
  {
   "cell_type": "code",
   "execution_count": 4,
   "id": "1ceefe48",
   "metadata": {},
   "outputs": [
    {
     "data": {
      "text/plain": [
       "13178690"
      ]
     },
     "execution_count": 4,
     "metadata": {},
     "output_type": "execute_result"
    }
   ],
   "source": [
    "gl_pcd = o3d.io.read_point_cloud(\"../3d_model/gt_gl.ply\")\n",
    "len(gl_pcd.points)"
   ]
  },
  {
   "cell_type": "code",
   "execution_count": 4,
   "id": "9ced9ed2",
   "metadata": {},
   "outputs": [],
   "source": [
    "def get_bounding_box_range(points):\n",
    "    min_vals = np.min(points, axis=0)\n",
    "    max_vals = np.max(points, axis=0)\n",
    "    return max_vals - min_vals"
   ]
  },
  {
   "cell_type": "code",
   "execution_count": 5,
   "id": "ecf0e10c",
   "metadata": {},
   "outputs": [],
   "source": [
    "range1 = get_bounding_box_range(col_pcd.points)\n",
    "range2 = get_bounding_box_range(las_pcd.points)"
   ]
  },
  {
   "cell_type": "code",
   "execution_count": 6,
   "id": "357079a2",
   "metadata": {},
   "outputs": [
    {
     "name": "stdout",
     "output_type": "stream",
     "text": [
      "colmap range:  [359.34918213 325.8598175   66.49077129]\n",
      "las range:  [65.5267 57.1422 17.1178]\n"
     ]
    }
   ],
   "source": [
    "print(\"colmap range: \", range1)\n",
    "print(\"las range: \", range2)"
   ]
  },
  {
   "cell_type": "code",
   "execution_count": 7,
   "id": "e6faeaa8",
   "metadata": {},
   "outputs": [
    {
     "name": "stdout",
     "output_type": "stream",
     "text": [
      "Apply point-to-point ICP\n",
      "RegistrationResult with fitness=1.000000e+00, inlier_rmse=4.350983e+00, and correspondence_set size of 520723\n",
      "Access transformation to get result.\n",
      "Transformation is:\n",
      "[[ 7.52874643e-01 -5.75169302e-01 -3.20793725e-01  1.43258266e+02]\n",
      " [ 6.03092501e-01  7.97114878e-01 -1.29597075e-02 -6.99851886e+01]\n",
      " [ 2.62665581e-01 -1.84453639e-01  9.47323826e-01  1.82368236e+02]\n",
      " [ 0.00000000e+00  0.00000000e+00  0.00000000e+00  1.00000000e+00]]\n"
     ]
    }
   ],
   "source": [
    "print(\"Apply point-to-point ICP\")\n",
    "threshold = 1000\n",
    "trans_init = np.asarray([[0.862, 0.011, -0.507, 0.5],\n",
    "                         [-0.139, 0.967, -0.215, 0.7],\n",
    "                         [0.487, 0.255, 0.835, -1.4], \n",
    "                         [0.0, 0.0, 0.0, 1.0]])\n",
    "reg_p2p = o3d.pipelines.registration.registration_icp(\n",
    "    col_pcd, las_pcd, threshold, trans_init,\n",
    "    o3d.pipelines.registration.TransformationEstimationPointToPoint())\n",
    "print(reg_p2p)\n",
    "print(\"Transformation is:\")\n",
    "print(reg_p2p.transformation)"
   ]
  },
  {
   "cell_type": "code",
   "execution_count": 8,
   "id": "a373ffeb",
   "metadata": {},
   "outputs": [
    {
     "data": {
      "text/plain": [
       "PointCloud with 520723 points."
      ]
     },
     "execution_count": 8,
     "metadata": {},
     "output_type": "execute_result"
    }
   ],
   "source": [
    "col_pcd.transform(reg_p2p.transformation)"
   ]
  },
  {
   "cell_type": "code",
   "execution_count": 9,
   "id": "9c98901a",
   "metadata": {},
   "outputs": [],
   "source": [
    "from pytorch3d.loss import chamfer_distance\n",
    "import torch"
   ]
  },
  {
   "cell_type": "code",
   "execution_count": 10,
   "id": "d5ce2702",
   "metadata": {},
   "outputs": [],
   "source": [
    "# 提取点云坐标，并转换为 NumPy 数组\n",
    "source_points = np.asarray(col_pcd.points)\n",
    "target_points = np.asarray(las_pcd.points)\n",
    "\n",
    "# 转换 NumPy 数组为 PyTorch Tensor\n",
    "source_tensor = torch.tensor(source_points, dtype=torch.float32).unsqueeze(0)  # (1, N, 3)\n",
    "target_tensor = torch.tensor(target_points, dtype=torch.float32).unsqueeze(0)  #"
   ]
  },
  {
   "cell_type": "code",
   "execution_count": null,
   "id": "9e184e77",
   "metadata": {},
   "outputs": [],
   "source": [
    "# By default: average over points then batches\n",
    "loss_chamfer, (dist_src_tgt, dist_tgt_src) = chamfer_distance(\n",
    "    source_tensor, target_tensor,\n",
    "    batch_reduction=\"mean\",    # or \"sum\" / \"none\"\n",
    "    point_reduction=\"mean\"     # or \"sum\" / \"none\"\n",
    ")\n",
    "\n",
    "print(f\"Chamfer loss: {loss_chamfer.item():.6f}\")\n",
    "# dist_src_tgt: tensor of shape (B, N) – for each src point its squared L2 to nearest tgt\n",
    "# dist_tgt_src: tensor of shape (B, M) – for each tgt point its squared L2 to nearest src\n"
   ]
  }
 ],
 "metadata": {
  "kernelspec": {
   "display_name": "Python 3",
   "language": "python",
   "name": "python3"
  },
  "language_info": {
   "codemirror_mode": {
    "name": "ipython",
    "version": 3
   },
   "file_extension": ".py",
   "mimetype": "text/x-python",
   "name": "python",
   "nbconvert_exporter": "python",
   "pygments_lexer": "ipython3",
   "version": "3.12.9"
  }
 },
 "nbformat": 4,
 "nbformat_minor": 5
}
