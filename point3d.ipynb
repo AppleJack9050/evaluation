{
 "cells": [
  {
   "cell_type": "code",
   "execution_count": 1,
   "id": "51e174b9",
   "metadata": {},
   "outputs": [
    {
     "name": "stdout",
     "output_type": "stream",
     "text": [
      "Jupyter environment detected. Enabling Open3D WebVisualizer.\n",
      "[Open3D INFO] WebRTC GUI backend enabled.\n",
      "[Open3D INFO] WebRTCWindowSystem: HTTP handshake server disabled.\n"
     ]
    }
   ],
   "source": [
    "import numpy as np\n",
    "import open3d as o3d\n",
    "import laspy\n",
    "from typing import Union, Tuple"
   ]
  },
  {
   "cell_type": "code",
   "execution_count": 2,
   "id": "cc874486",
   "metadata": {},
   "outputs": [
    {
     "data": {
      "text/plain": [
       "520723"
      ]
     },
     "execution_count": 2,
     "metadata": {},
     "output_type": "execute_result"
    }
   ],
   "source": [
    "# 读取 PLY 文件\n",
    "col_pcd = o3d.io.read_point_cloud(\"colmap_glacier.ply\")\n",
    "len(col_pcd.points)"
   ]
  },
  {
   "cell_type": "code",
   "execution_count": 3,
   "id": "6e615f9f",
   "metadata": {},
   "outputs": [
    {
     "data": {
      "text/plain": [
       "13178690"
      ]
     },
     "execution_count": 3,
     "metadata": {},
     "output_type": "execute_result"
    }
   ],
   "source": [
    "las_file = laspy.read(\"2016-11-28_AlphLake_SFM-Medium_USGSTransLOCAL.las\")\n",
    "\n",
    "# 提取 XYZ 坐标\n",
    "las_points = np.vstack((las_file.x, las_file.y, las_file.z)).T\n",
    "\n",
    "# 转换为 Open3D 点云对象\n",
    "las_pcd = o3d.geometry.PointCloud()\n",
    "las_pcd.points = o3d.utility.Vector3dVector(las_points)\n",
    "len(las_pcd.points)"
   ]
  },
  {
   "cell_type": "code",
   "execution_count": 4,
   "id": "502eb25c",
   "metadata": {},
   "outputs": [
    {
     "ename": "ModuleNotFoundError",
     "evalue": "No module named 'pclpy'",
     "output_type": "error",
     "traceback": [
      "\u001b[1;31m---------------------------------------------------------------------------\u001b[0m",
      "\u001b[1;31mModuleNotFoundError\u001b[0m                       Traceback (most recent call last)",
      "Cell \u001b[1;32mIn[4], line 1\u001b[0m\n\u001b[1;32m----> 1\u001b[0m \u001b[38;5;28;01mfrom\u001b[39;00m \u001b[38;5;21;01mpcd_reigstration\u001b[39;00m \u001b[38;5;28;01mimport\u001b[39;00m register_point_clouds_ndt\n",
      "File \u001b[1;32mc:\\Users\\ShipM\\Desktop\\evaluation\\pcd_reigstration.py:3\u001b[0m\n\u001b[0;32m      1\u001b[0m \u001b[38;5;28;01mimport\u001b[39;00m \u001b[38;5;21;01mnumpy\u001b[39;00m \u001b[38;5;28;01mas\u001b[39;00m \u001b[38;5;21;01mnp\u001b[39;00m\n\u001b[0;32m      2\u001b[0m \u001b[38;5;28;01mimport\u001b[39;00m \u001b[38;5;21;01mopen3d\u001b[39;00m \u001b[38;5;28;01mas\u001b[39;00m \u001b[38;5;21;01mo3d\u001b[39;00m\n\u001b[1;32m----> 3\u001b[0m \u001b[38;5;28;01mfrom\u001b[39;00m \u001b[38;5;21;01mpclpy\u001b[39;00m \u001b[38;5;28;01mimport\u001b[39;00m pcl\n\u001b[0;32m      4\u001b[0m \u001b[38;5;28;01mfrom\u001b[39;00m \u001b[38;5;21;01mtyping\u001b[39;00m \u001b[38;5;28;01mimport\u001b[39;00m Tuple, Optional\n\u001b[0;32m      6\u001b[0m \u001b[38;5;28;01mdef\u001b[39;00m \u001b[38;5;21mregister_point_clouds_ndt\u001b[39m(\n\u001b[0;32m      7\u001b[0m     source: o3d\u001b[38;5;241m.\u001b[39mgeometry\u001b[38;5;241m.\u001b[39mPointCloud,\n\u001b[0;32m      8\u001b[0m     target: o3d\u001b[38;5;241m.\u001b[39mgeometry\u001b[38;5;241m.\u001b[39mPointCloud,\n\u001b[1;32m   (...)\u001b[0m\n\u001b[0;32m     13\u001b[0m     output_path: Optional[\u001b[38;5;28mstr\u001b[39m] \u001b[38;5;241m=\u001b[39m \u001b[38;5;28;01mNone\u001b[39;00m\n\u001b[0;32m     14\u001b[0m ) \u001b[38;5;241m-\u001b[39m\u001b[38;5;241m>\u001b[39m Tuple[o3d\u001b[38;5;241m.\u001b[39mgeometry\u001b[38;5;241m.\u001b[39mPointCloud, np\u001b[38;5;241m.\u001b[39mndarray]:\n",
      "\u001b[1;31mModuleNotFoundError\u001b[0m: No module named 'pclpy'"
     ]
    }
   ],
   "source": [
    "from pcd_reigstration import register_point_clouds_ndt"
   ]
  },
  {
   "cell_type": "code",
   "execution_count": 7,
   "id": "9e6490af",
   "metadata": {},
   "outputs": [
    {
     "name": "stdout",
     "output_type": "stream",
     "text": [
      "Collecting python-pcl\n",
      "  Downloading python-pcl-0.3.0a1.tar.gz (14 kB)\n",
      "  Preparing metadata (setup.py): started\n",
      "  Preparing metadata (setup.py): finished with status 'error'\n"
     ]
    },
    {
     "name": "stderr",
     "output_type": "stream",
     "text": [
      "  error: subprocess-exited-with-error\n",
      "  \n",
      "  × python setup.py egg_info did not run successfully.\n",
      "  │ exit code: 1\n",
      "  ╰─> [8 lines of output]\n",
      "      C:\\Users\\ShipM\\AppData\\Local\\Temp\\pip-install-x8828kxd\\python-pcl_dafc42bd5a244f029cc30094b70fb64c\\setup.py:51: SyntaxWarning: invalid escape sequence '\\ '\n",
      "        return stdout.decode().replace('\\r\\n', '').replace('\\ ', ' ').replace('/', '\\\\').split(cut)\n",
      "      Traceback (most recent call last):\n",
      "        File \"<string>\", line 2, in <module>\n",
      "        File \"<pip-setuptools-caller>\", line 34, in <module>\n",
      "        File \"C:\\Users\\ShipM\\AppData\\Local\\Temp\\pip-install-x8828kxd\\python-pcl_dafc42bd5a244f029cc30094b70fb64c\\setup.py\", line 4, in <module>\n",
      "          from Cython.Distutils import build_ext\n",
      "      ModuleNotFoundError: No module named 'Cython'\n",
      "      [end of output]\n",
      "  \n",
      "  note: This error originates from a subprocess, and is likely not a problem with pip.\n",
      "error: metadata-generation-failed\n",
      "\n",
      "× Encountered error while generating package metadata.\n",
      "╰─> See above for output.\n",
      "\n",
      "note: This is an issue with the package mentioned above, not pip.\n",
      "hint: See above for details.\n"
     ]
    }
   ],
   "source": [
    "!pip install python-pcl"
   ]
  },
  {
   "cell_type": "code",
   "execution_count": 14,
   "id": "e6faeaa8",
   "metadata": {},
   "outputs": [
    {
     "ename": "NameError",
     "evalue": "name 'register_point_clouds_ndt' is not defined",
     "output_type": "error",
     "traceback": [
      "\u001b[1;31m---------------------------------------------------------------------------\u001b[0m",
      "\u001b[1;31mNameError\u001b[0m                                 Traceback (most recent call last)",
      "Cell \u001b[1;32mIn[14], line 1\u001b[0m\n\u001b[1;32m----> 1\u001b[0m aligned_src, transform \u001b[38;5;241m=\u001b[39m \u001b[43mregister_point_clouds_ndt\u001b[49m(col_pcd, las_pcd)\n",
      "\u001b[1;31mNameError\u001b[0m: name 'register_point_clouds_ndt' is not defined"
     ]
    }
   ],
   "source": [
    "aligned_src, transform = register_point_clouds_ndt(col_pcd, las_pcd)"
   ]
  }
 ],
 "metadata": {
  "kernelspec": {
   "display_name": "Python 3",
   "language": "python",
   "name": "python3"
  },
  "language_info": {
   "codemirror_mode": {
    "name": "ipython",
    "version": 3
   },
   "file_extension": ".py",
   "mimetype": "text/x-python",
   "name": "python",
   "nbconvert_exporter": "python",
   "pygments_lexer": "ipython3",
   "version": "3.12.9"
  }
 },
 "nbformat": 4,
 "nbformat_minor": 5
}
