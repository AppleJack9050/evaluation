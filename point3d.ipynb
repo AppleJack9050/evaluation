{
 "cells": [
  {
   "cell_type": "code",
   "execution_count": 1,
   "id": "51e174b9",
   "metadata": {},
   "outputs": [
    {
     "name": "stdout",
     "output_type": "stream",
     "text": [
      "Jupyter environment detected. Enabling Open3D WebVisualizer.\n",
      "[Open3D INFO] WebRTC GUI backend enabled.\n",
      "[Open3D INFO] WebRTCWindowSystem: HTTP handshake server disabled.\n"
     ]
    }
   ],
   "source": [
    "import numpy as np\n",
    "import open3d as o3d\n",
    "# import laspy\n",
    "# from typing import Union, Tuple"
   ]
  },
  {
   "cell_type": "code",
   "execution_count": 2,
   "id": "cc874486",
   "metadata": {},
   "outputs": [
    {
     "name": "stdout",
     "output_type": "stream",
     "text": [
      "openmvg: 99918\n",
      "ground-truth: 13178690\n"
     ]
    }
   ],
   "source": [
    "# 读取 PLY 文件\n",
    "openmvg_pcd = o3d.io.read_point_cloud(\"/home/otter77/3d_model/ace0.ply\")\n",
    "gt_pcd = o3d.io.read_point_cloud(\"/home/otter77/3d_model/gt_gl.ply\")\n",
    "print('openmvg:', len(openmvg_pcd.points))\n",
    "print('ground-truth:', len(gt_pcd.points))"
   ]
  },
  {
   "cell_type": "code",
   "execution_count": null,
   "id": "6e615f9f",
   "metadata": {},
   "outputs": [
    {
     "data": {
      "text/plain": [
       "13178690"
      ]
     },
     "execution_count": 2,
     "metadata": {},
     "output_type": "execute_result"
    }
   ],
   "source": [
    "# las_file = laspy.read(\"../3d_model/2016-11-28_AlphLake_SFM-Medium_USGSTransLOCAL.las\")\n",
    "\n",
    "# # 提取 XYZ 坐标\n",
    "# las_points = np.vstack((las_file.x, las_file.y, las_file.z)).T\n",
    "\n",
    "# # 转换为 Open3D 点云对象\n",
    "# las_pcd = o3d.geometry.PointCloud()\n",
    "# las_pcd.points = o3d.utility.Vector3dVector(las_points)\n",
    "# len(las_pcd.points)"
   ]
  },
  {
   "cell_type": "code",
   "execution_count": null,
   "id": "01389ed9",
   "metadata": {},
   "outputs": [
    {
     "data": {
      "text/plain": [
       "True"
      ]
     },
     "execution_count": 3,
     "metadata": {},
     "output_type": "execute_result"
    }
   ],
   "source": [
    "# o3d.io.write_point_cloud(\"../3d_model/gt_gl.ply\", las_pcd)"
   ]
  },
  {
   "cell_type": "code",
   "execution_count": null,
   "id": "1ceefe48",
   "metadata": {},
   "outputs": [
    {
     "data": {
      "text/plain": [
       "13178690"
      ]
     },
     "execution_count": 4,
     "metadata": {},
     "output_type": "execute_result"
    }
   ],
   "source": [
    "# gl_pcd = o3d.io.read_point_cloud(\"../3d_model/gt_gl.ply\")\n",
    "# len(gl_pcd.points)"
   ]
  },
  {
   "cell_type": "code",
   "execution_count": 3,
   "id": "9ced9ed2",
   "metadata": {},
   "outputs": [],
   "source": [
    "def get_bounding_box_range(points):\n",
    "    min_vals = np.min(points, axis=0)\n",
    "    max_vals = np.max(points, axis=0)\n",
    "    return max_vals - min_vals"
   ]
  },
  {
   "cell_type": "code",
   "execution_count": 4,
   "id": "ecf0e10c",
   "metadata": {},
   "outputs": [],
   "source": [
    "range1 = get_bounding_box_range(openmvg_pcd.points)\n",
    "range2 = get_bounding_box_range(gt_pcd.points)"
   ]
  },
  {
   "cell_type": "code",
   "execution_count": 5,
   "id": "357079a2",
   "metadata": {},
   "outputs": [
    {
     "name": "stdout",
     "output_type": "stream",
     "text": [
      "openmvg range:  [132.     124.75   158.6875]\n",
      "gt range:  [65.5267 57.1422 17.1178]\n"
     ]
    }
   ],
   "source": [
    "print(\"openmvg range: \", range1)\n",
    "print(\"gt range: \", range2)"
   ]
  },
  {
   "cell_type": "code",
   "execution_count": 6,
   "id": "e6faeaa8",
   "metadata": {},
   "outputs": [
    {
     "name": "stdout",
     "output_type": "stream",
     "text": [
      "Apply point-to-point ICP\n"
     ]
    },
    {
     "ename": "NameError",
     "evalue": "name 'col_pcd' is not defined",
     "output_type": "error",
     "traceback": [
      "\u001b[31m---------------------------------------------------------------------------\u001b[39m",
      "\u001b[31mNameError\u001b[39m                                 Traceback (most recent call last)",
      "\u001b[36mCell\u001b[39m\u001b[36m \u001b[39m\u001b[32mIn[6]\u001b[39m\u001b[32m, line 8\u001b[39m\n\u001b[32m      2\u001b[39m threshold = \u001b[32m1000\u001b[39m\n\u001b[32m      3\u001b[39m trans_init = np.asarray([[\u001b[32m0.862\u001b[39m, \u001b[32m0.011\u001b[39m, -\u001b[32m0.507\u001b[39m, \u001b[32m0.5\u001b[39m],\n\u001b[32m      4\u001b[39m                          [-\u001b[32m0.139\u001b[39m, \u001b[32m0.967\u001b[39m, -\u001b[32m0.215\u001b[39m, \u001b[32m0.7\u001b[39m],\n\u001b[32m      5\u001b[39m                          [\u001b[32m0.487\u001b[39m, \u001b[32m0.255\u001b[39m, \u001b[32m0.835\u001b[39m, -\u001b[32m1.4\u001b[39m], \n\u001b[32m      6\u001b[39m                          [\u001b[32m0.0\u001b[39m, \u001b[32m0.0\u001b[39m, \u001b[32m0.0\u001b[39m, \u001b[32m1.0\u001b[39m]])\n\u001b[32m      7\u001b[39m reg_p2p = o3d.pipelines.registration.registration_icp(\n\u001b[32m----> \u001b[39m\u001b[32m8\u001b[39m     \u001b[43mcol_pcd\u001b[49m, las_pcd, threshold, trans_init,\n\u001b[32m      9\u001b[39m     o3d.pipelines.registration.TransformationEstimationPointToPoint())\n\u001b[32m     10\u001b[39m \u001b[38;5;28mprint\u001b[39m(reg_p2p)\n\u001b[32m     11\u001b[39m \u001b[38;5;28mprint\u001b[39m(\u001b[33m\"\u001b[39m\u001b[33mTransformation is:\u001b[39m\u001b[33m\"\u001b[39m)\n",
      "\u001b[31mNameError\u001b[39m: name 'col_pcd' is not defined"
     ]
    }
   ],
   "source": [
    "print(\"Apply point-to-point ICP\")\n",
    "threshold = 1000\n",
    "trans_init = np.asarray([[0.862, 0.011, -0.507, 0.5],\n",
    "                         [-0.139, 0.967, -0.215, 0.7],\n",
    "                         [0.487, 0.255, 0.835, -1.4], \n",
    "                         [0.0, 0.0, 0.0, 1.0]])\n",
    "reg_p2p = o3d.pipelines.registration.registration_icp(\n",
    "    col_pcd, las_pcd, threshold, trans_init,\n",
    "    o3d.pipelines.registration.TransformationEstimationPointToPoint())\n",
    "print(reg_p2p)\n",
    "print(\"Transformation is:\")\n",
    "print(reg_p2p.transformation)"
   ]
  },
  {
   "cell_type": "code",
   "execution_count": 8,
   "id": "a373ffeb",
   "metadata": {},
   "outputs": [
    {
     "data": {
      "text/plain": [
       "PointCloud with 520723 points."
      ]
     },
     "execution_count": 8,
     "metadata": {},
     "output_type": "execute_result"
    }
   ],
   "source": [
    "col_pcd.transform(reg_p2p.transformation)"
   ]
  },
  {
   "cell_type": "code",
   "execution_count": 9,
   "id": "9c98901a",
   "metadata": {},
   "outputs": [],
   "source": [
    "from pytorch3d.loss import chamfer_distance\n",
    "import torch"
   ]
  },
  {
   "cell_type": "code",
   "execution_count": 10,
   "id": "d5ce2702",
   "metadata": {},
   "outputs": [],
   "source": [
    "# 提取点云坐标，并转换为 NumPy 数组\n",
    "source_points = np.asarray(col_pcd.points)\n",
    "target_points = np.asarray(las_pcd.points)\n",
    "\n",
    "# 转换 NumPy 数组为 PyTorch Tensor\n",
    "source_tensor = torch.tensor(source_points, dtype=torch.float32).unsqueeze(0)  # (1, N, 3)\n",
    "target_tensor = torch.tensor(target_points, dtype=torch.float32).unsqueeze(0)  #"
   ]
  },
  {
   "cell_type": "code",
   "execution_count": null,
   "id": "9e184e77",
   "metadata": {},
   "outputs": [],
   "source": [
    "# By default: average over points then batches\n",
    "loss_chamfer, (dist_src_tgt, dist_tgt_src) = chamfer_distance(\n",
    "    source_tensor, target_tensor,\n",
    "    batch_reduction=\"mean\",    # or \"sum\" / \"none\"\n",
    "    point_reduction=\"mean\"     # or \"sum\" / \"none\"\n",
    ")\n",
    "\n",
    "print(f\"Chamfer loss: {loss_chamfer.item():.6f}\")\n",
    "# dist_src_tgt: tensor of shape (B, N) – for each src point its squared L2 to nearest tgt\n",
    "# dist_tgt_src: tensor of shape (B, M) – for each tgt point its squared L2 to nearest src\n"
   ]
  }
 ],
 "metadata": {
  "kernelspec": {
   "display_name": "eva",
   "language": "python",
   "name": "python3"
  },
  "language_info": {
   "codemirror_mode": {
    "name": "ipython",
    "version": 3
   },
   "file_extension": ".py",
   "mimetype": "text/x-python",
   "name": "python",
   "nbconvert_exporter": "python",
   "pygments_lexer": "ipython3",
   "version": "3.12.9"
  }
 },
 "nbformat": 4,
 "nbformat_minor": 5
}
