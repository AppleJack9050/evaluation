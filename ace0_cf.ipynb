{
 "cells": [
  {
   "cell_type": "code",
   "execution_count": null,
   "id": "e078cb48",
   "metadata": {},
   "outputs": [],
   "source": [
    "from pytorch3d.loss import chamfer_distance\n",
    "import torch\n",
    "import numpy as np\n",
    "import open3d as o3d\n",
    "\n",
    "col_pcd = o3d.io.read_point_cloud(\"/home/otter77/3d_model/ace0_gl.ply\")\n",
    "gt_pcd = o3d.io.read_point_cloud(\"/home/otter77/3d_model/gt_gl.ply\")\n",
    "\n",
    "# 提取点云坐标，并转换为 NumPy 数组\n",
    "source_points = np.asarray(col_pcd.points)\n",
    "target_points = np.asarray(gt_pcd.points)\n",
    "\n",
    "# 转换 NumPy 数组为 PyTorch Tensor\n",
    "source_tensor = torch.tensor(source_points, dtype=torch.float32).unsqueeze(0)  # (1, N, 3)\n",
    "target_tensor = torch.tensor(target_points, dtype=torch.float32).unsqueeze(0)  #\n",
    "\n",
    "# By default: average over points then batches\n",
    "loss_chamfer, (dist_src_tgt, dist_tgt_src) = chamfer_distance(\n",
    "    source_tensor, target_tensor,\n",
    "    batch_reduction=\"mean\",    # or \"sum\" / \"none\"\n",
    "    point_reduction=\"mean\"     # or \"sum\" / \"none\"\n",
    ")\n",
    "\n",
    "with open(\"output.txt\", \"a\") as file:\n",
    "    file.write(f\"ACE0 Chamfer loss: {loss_chamfer.item():.6f}\")"
   ]
  }
 ],
 "metadata": {
  "kernelspec": {
   "display_name": "eva",
   "language": "python",
   "name": "python3"
  },
  "language_info": {
   "name": "python",
   "version": "3.12.9"
  }
 },
 "nbformat": 4,
 "nbformat_minor": 5
}
