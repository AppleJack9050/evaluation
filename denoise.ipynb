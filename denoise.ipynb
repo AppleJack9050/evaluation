{
 "cells": [
  {
   "cell_type": "code",
   "execution_count": 1,
   "id": "69b2d196",
   "metadata": {},
   "outputs": [
    {
     "name": "stdout",
     "output_type": "stream",
     "text": [
      "Jupyter environment detected. Enabling Open3D WebVisualizer.\n",
      "[Open3D INFO] WebRTC GUI backend enabled.\n",
      "[Open3D INFO] WebRTCWindowSystem: HTTP handshake server disabled.\n"
     ]
    },
    {
     "data": {
      "text/plain": [
       "True"
      ]
     },
     "execution_count": 1,
     "metadata": {},
     "output_type": "execute_result"
    }
   ],
   "source": [
    "import open3d as o3d\n",
    "\n",
    "# 加载点云数据\n",
    "pcd = o3d.io.read_point_cloud(\"../3d_model/colmap_glacier.ply\")  # 这里需要你的点云文件路径\n",
    "\n",
    "# 统计滤波 (SOR)\n",
    "cl, ind = pcd.remove_statistical_outlier(nb_neighbors=200, std_ratio=2.0)\n",
    "\n",
    "# 保存去噪后的点云\n",
    "o3d.io.write_point_cloud(\"../3d_model/filtered_point_cloud.ply\", cl)"
   ]
  }
 ],
 "metadata": {
  "kernelspec": {
   "display_name": "Python 3",
   "language": "python",
   "name": "python3"
  },
  "language_info": {
   "codemirror_mode": {
    "name": "ipython",
    "version": 3
   },
   "file_extension": ".py",
   "mimetype": "text/x-python",
   "name": "python",
   "nbconvert_exporter": "python",
   "pygments_lexer": "ipython3",
   "version": "3.12.9"
  }
 },
 "nbformat": 4,
 "nbformat_minor": 5
}
