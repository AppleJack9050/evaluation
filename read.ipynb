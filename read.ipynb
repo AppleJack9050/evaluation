{
 "cells": [
  {
   "cell_type": "code",
   "execution_count": 19,
   "id": "9e7064b3",
   "metadata": {},
   "outputs": [
    {
     "name": "stdout",
     "output_type": "stream",
     "text": [
      "[[ 3.28606520e-318  3.25967927e+000  1.28876255e+000]\n",
      " [ 1.52123377e+000 -1.68941661e-012  2.92187268e-315]\n",
      " [ 2.75164619e-135 -6.98351808e-251 -1.91562232e+053]\n",
      " ...\n",
      " [ 3.86407436e+025  2.11176905e+133  1.05234006e-318]\n",
      " [ 1.06692420e-159  2.98558340e-083  4.32000225e-089]\n",
      " [ 1.61753934e-313  4.19901470e+206  6.63739054e+034]]\n"
     ]
    }
   ],
   "source": [
    "import numpy as np\n",
    "import open3d as o3d\n",
    "\n",
    "def read_points3D_bin(file_path):\n",
    "    with open(file_path, \"rb\") as f:\n",
    "        num_points = np.fromfile(f, dtype=np.uint64, count=1)[0]\n",
    "        data = np.fromfile(f, dtype=np.float64, count=num_points * 3).reshape(-1, 3)\n",
    "    return data\n",
    "\n",
    "points3D = read_points3D_bin(\"colmap_points3D.bin\")\n",
    "print(points3D)\n"
   ]
  },
  {
   "cell_type": "code",
   "execution_count": 20,
   "id": "11929b60",
   "metadata": {},
   "outputs": [
    {
     "data": {
      "text/plain": [
       "520723"
      ]
     },
     "execution_count": 20,
     "metadata": {},
     "output_type": "execute_result"
    }
   ],
   "source": [
    "# 转换为 Open3D 的点云对象\n",
    "pcd1 = o3d.geometry.PointCloud()\n",
    "pcd1.points = o3d.utility.Vector3dVector(points3D)\n",
    "len(pcd1.points)"
   ]
  },
  {
   "cell_type": "code",
   "execution_count": 23,
   "id": "9a6625a9",
   "metadata": {},
   "outputs": [
    {
     "data": {
      "text/plain": [
       "520723"
      ]
     },
     "execution_count": 23,
     "metadata": {},
     "output_type": "execute_result"
    }
   ],
   "source": [
    "# 读取 PLY 文件\n",
    "pcd2 = o3d.io.read_point_cloud(\"colmap_glacier.ply\")\n",
    "len(pcd2.points)"
   ]
  },
  {
   "cell_type": "code",
   "execution_count": 25,
   "id": "de57eb76",
   "metadata": {},
   "outputs": [
    {
     "data": {
      "text/plain": [
       "PointCloud with 97182 points."
      ]
     },
     "execution_count": 25,
     "metadata": {},
     "output_type": "execute_result"
    }
   ],
   "source": [
    "pcd2.voxel_down_sample(0.05)"
   ]
  }
 ],
 "metadata": {
  "kernelspec": {
   "display_name": "Python 3",
   "language": "python",
   "name": "python3"
  },
  "language_info": {
   "codemirror_mode": {
    "name": "ipython",
    "version": 3
   },
   "file_extension": ".py",
   "mimetype": "text/x-python",
   "name": "python",
   "nbconvert_exporter": "python",
   "pygments_lexer": "ipython3",
   "version": "3.12.9"
  }
 },
 "nbformat": 4,
 "nbformat_minor": 5
}
